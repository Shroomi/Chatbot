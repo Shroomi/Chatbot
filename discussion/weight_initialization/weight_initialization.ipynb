{
 "cells": [
  {
   "cell_type": "code",
   "execution_count": null,
   "metadata": {},
   "outputs": [],
   "source": [
    "'''\n",
    "    This file is used to discuss the importance of\n",
    "    weight initialization.\n",
    "    \n",
    "    There are several ways of weight initialization.\n",
    "    \n",
    "    1. Pre-training\n",
    "    2. Random Initialization\n",
    "    3. Xavier Initialization\n",
    "    4. He Initialization\n",
    "    5. Batch Normalization Layer\n",
    "'''\n",
    "\n",
    "# Pre-training: Use the model which has been trained on task A\n",
    "#               for task B with fine-tuning."
   ]
  },
  {
   "cell_type": "code",
   "execution_count": 18,
   "metadata": {},
   "outputs": [
    {
     "name": "stdout",
     "output_type": "stream",
     "text": [
      "input mean 0.00092 and std 1.00075\n",
      "layer 1: mean -0.00029 and std 0.26390\n",
      "layer 2: mean -0.00007 and std 0.07204\n",
      "layer 3: mean -0.00000 and std 0.01906\n",
      "layer 4: mean 0.00001 and std 0.00485\n",
      "layer 5: mean -0.00000 and std 0.00119\n",
      "layer 6: mean 0.00000 and std 0.00028\n",
      "layer 7: mean -0.00000 and std 0.00006\n",
      "layer 8: mean -0.00000 and std 0.00001\n",
      "layer 9: mean 0.00000 and std 0.00000\n"
     ]
    },
    {
     "data": {
      "image/png": "[encoded data removed]",
      "text/plain": [
       "<matplotlib.figure.Figure at 0x1820538d30>"
      ]
     },
     "metadata": {},
     "output_type": "display_data"
    }
   ],
   "source": [
    "# Random Initialization:\n",
    "# In the figure below, we can see the output gets lower and lower,\n",
    "# which means the gradient gets lower and lower.\n",
    "# It's difficult for us to update weights.\n",
    "import tensorflow as tf\n",
    "import numpy as np\n",
    "import matplotlib.pyplot as plt\n",
    "\n",
    "graph = tf.Graph()\n",
    "with graph.as_default():\n",
    "    data = tf.constant(np.random.randn(2000, 800).astype('float32'))\n",
    "    layer_sizes = [800 - 50 * i for i in range(0,10)]\n",
    "    num_layers = len(layer_sizes)\n",
    "    \n",
    "    fcs = [] # store the output of each layer\n",
    "    for i in range(0, num_layers - 1):\n",
    "        X = data if i == 0 else fcs[i - 1]\n",
    "        node_input = layer_sizes[i]\n",
    "        node_output = layer_sizes[i + 1]\n",
    "        W = tf.Variable(np.random.randn(node_input, node_output).astype\n",
    "                ('float32')) * 0.01 # Random Gaussian/Normal Distribution Initialization for weights\n",
    "        fc = tf.matmul(X, W)\n",
    "        fc = tf.nn.tanh(fc)\n",
    "        fcs.append(fc)\n",
    "        \n",
    "with tf.Session(graph=graph) as sess:\n",
    "    sess.run(tf.global_variables_initializer())\n",
    "    print('input mean {0:.5f} and std {1:.5f}'.format(np.mean(data.eval()),\n",
    "                                                      np.std(data.eval())))\n",
    "    \n",
    "    for idx, fc in enumerate(fcs):\n",
    "        print('layer {0}: mean {1:.5f} and std {2:.5f}'.format(idx+1, np.mean(fc.eval()),\n",
    "                                                              np.std(fc.eval())))\n",
    "        \n",
    "    plt.figure()\n",
    "    for idx, fc in enumerate(fcs):\n",
    "        plt.subplot(1, len(fcs), idx+1)\n",
    "        plt.hist(fc.eval().flatten(), 30, range=[-1,1])\n",
    "        plt.xlabel('layer ' + str(idx + 1))\n",
    "        plt.yticks([])\n",
    "        \n",
    "    plt.show()"
   ]
  },
  {
   "cell_type": "code",
   "execution_count": 19,
   "metadata": {},
   "outputs": [
    {
     "name": "stdout",
     "output_type": "stream",
     "text": [
      "input mean 0.00074 and std 1.00061\n",
      "layer 1: mean 0.00043 and std 0.98575\n",
      "layer 2: mean -0.00012 and std 0.98512\n",
      "layer 3: mean 0.00125 and std 0.98461\n",
      "layer 4: mean -0.00129 and std 0.98394\n",
      "layer 5: mean 0.00077 and std 0.98328\n",
      "layer 6: mean 0.00038 and std 0.98262\n",
      "layer 7: mean -0.00003 and std 0.98167\n",
      "layer 8: mean -0.00104 and std 0.98061\n",
      "layer 9: mean -0.00115 and std 0.97959\n"
     ]
    },
    {
     "data": {
      "image/png": "[encoded data removed]",
      "text/plain": [
       "<matplotlib.figure.Figure at 0x18206b9a90>"
      ]
     },
     "metadata": {},
     "output_type": "display_data"
    }
   ],
   "source": [
    "# Random Initialization: Increase initialized weights\n",
    "# The result is in the figure below,\n",
    "# almost outputs are stay in -1 or 1,\n",
    "# and their gradients are close to 0.\n",
    "# It's also difficult for us to update weights.\n",
    "import tensorflow as tf\n",
    "import numpy as np\n",
    "import matplotlib.pyplot as plt\n",
    "\n",
    "graph = tf.Graph()\n",
    "with graph.as_default():\n",
    "    data = tf.constant(np.random.randn(2000, 800).astype('float32'))\n",
    "    layer_sizes = [800 - 50 * i for i in range(0,10)]\n",
    "    num_layers = len(layer_sizes)\n",
    "    \n",
    "    fcs = [] # store the output of each layer\n",
    "    for i in range(0, num_layers - 1):\n",
    "        X = data if i == 0 else fcs[i - 1]\n",
    "        node_input = layer_sizes[i]\n",
    "        node_output = layer_sizes[i + 1]\n",
    "        W = tf.Variable(np.random.randn(node_input, node_output).astype\n",
    "                ('float32')) # Random Gaussian/Normal Distribution Initialization for weights\n",
    "        fc = tf.matmul(X, W)\n",
    "        fc = tf.nn.tanh(fc)\n",
    "        fcs.append(fc)\n",
    "        \n",
    "with tf.Session(graph=graph) as sess:\n",
    "    sess.run(tf.global_variables_initializer())\n",
    "    print('input mean {0:.5f} and std {1:.5f}'.format(np.mean(data.eval()),\n",
    "                                                      np.std(data.eval())))\n",
    "    \n",
    "    for idx, fc in enumerate(fcs):\n",
    "        print('layer {0}: mean {1:.5f} and std {2:.5f}'.format(idx+1, np.mean(fc.eval()),\n",
    "                                                              np.std(fc.eval())))\n",
    "        \n",
    "    plt.figure()\n",
    "    for idx, fc in enumerate(fcs):\n",
    "        plt.subplot(1, len(fcs), idx+1)\n",
    "        plt.hist(fc.eval().flatten(), 30, range=[-1,1])\n",
    "        plt.xlabel('layer ' + str(idx + 1))\n",
    "        plt.yticks([])\n",
    "        \n",
    "    plt.show()"
   ]
  },
  {
   "cell_type": "code",
   "execution_count": 28,
   "metadata": {},
   "outputs": [
    {
     "name": "stdout",
     "output_type": "stream",
     "text": [
      "input mean 0.00028 and std 1.00102\n",
      "layer 1: mean -0.00015 and std 0.62808\n",
      "layer 2: mean 0.00053 and std 0.48619\n",
      "layer 3: mean 0.00015 and std 0.40780\n",
      "layer 4: mean 0.00007 and std 0.35766\n",
      "layer 5: mean 0.00062 and std 0.32055\n",
      "layer 6: mean -0.00035 and std 0.29434\n",
      "layer 7: mean 0.00065 and std 0.27109\n",
      "layer 8: mean 0.00026 and std 0.25368\n",
      "layer 9: mean -0.00018 and std 0.23876\n"
     ]
    },
    {
     "data": {
      "image/png": "[encoded data removed]",
      "text/plain": [
       "<matplotlib.figure.Figure at 0x1824548e10>"
      ]
     },
     "metadata": {},
     "output_type": "display_data"
    }
   ],
   "source": [
    "# Xavier Initialization：\n",
    "# The central idea is to keep the variances of output and input are the same\n",
    "# in order to avoid that all of outputs are close to 0.\n",
    "# But the inference of this initialization is based on linear function,\n",
    "# so it's not suitable for all of non-linear function.\n",
    "# The result is better(outputs keep appropriate distribution)in the figure because of 'tahn' function,\n",
    "# it just indicates that it's suitable for 'tanh' but not for all of non-linear function.\n",
    "import tensorflow as tf\n",
    "import numpy as np\n",
    "import matplotlib.pyplot as plt\n",
    "\n",
    "graph = tf.Graph()\n",
    "with graph.as_default():\n",
    "    data = tf.constant(np.random.randn(2000, 800).astype('float32'))\n",
    "    layer_sizes = [800 - 50 * i for i in range(0,10)]\n",
    "    num_layers = len(layer_sizes)\n",
    "    \n",
    "    fcs = [] # store the output of each layer\n",
    "    for i in range(0, num_layers - 1):\n",
    "        X = data if i == 0 else fcs[i - 1]\n",
    "        node_input = layer_sizes[i]\n",
    "        node_output = layer_sizes[i + 1]\n",
    "        W = (tf.Variable(np.random.randn(node_input, node_output).astype('float32')) \n",
    "             / np.sqrt(node_input)) # Xavier Initalization\n",
    "        fc = tf.matmul(X, W)\n",
    "        fc = tf.nn.tanh(fc)\n",
    "        fcs.append(fc)\n",
    "        \n",
    "with tf.Session(graph=graph) as sess:\n",
    "    sess.run(tf.global_variables_initializer())\n",
    "    print('input mean {0:.5f} and std {1:.5f}'.format(np.mean(data.eval()),\n",
    "                                                      np.std(data.eval())))\n",
    "    \n",
    "    for idx, fc in enumerate(fcs):\n",
    "        print('layer {0}: mean {1:.5f} and std {2:.5f}'.format(idx+1, np.mean(fc.eval()),\n",
    "                                                              np.std(fc.eval())))\n",
    "        \n",
    "    plt.figure()\n",
    "    for idx, fc in enumerate(fcs):\n",
    "        plt.subplot(1, len(fcs), idx+1)\n",
    "        plt.hist(fc.eval().flatten(), 30, range=[-1,1])\n",
    "        plt.xlabel('layer ' + str(idx + 1))\n",
    "        plt.yticks([])\n",
    "        \n",
    "    plt.show()"
   ]
  },
  {
   "cell_type": "code",
   "execution_count": 29,
   "metadata": {},
   "outputs": [
    {
     "name": "stdout",
     "output_type": "stream",
     "text": [
      "input mean -0.00012 and std 1.00120\n",
      "layer 1: mean 0.39984 and std 0.58485\n",
      "layer 2: mean 0.28709 and std 0.41486\n",
      "layer 3: mean 0.19198 and std 0.29232\n",
      "layer 4: mean 0.13950 and std 0.20493\n",
      "layer 5: mean 0.09120 and std 0.14017\n",
      "layer 6: mean 0.05732 and std 0.09071\n",
      "layer 7: mean 0.03722 and std 0.05802\n",
      "layer 8: mean 0.02462 and std 0.03745\n",
      "layer 9: mean 0.01892 and std 0.02660\n"
     ]
    },
    {
     "data": {
      "image/png": "[encoded data removed]",
      "text/plain": [
       "<matplotlib.figure.Figure at 0x1820c0b5c0>"
      ]
     },
     "metadata": {},
     "output_type": "display_data"
    }
   ],
   "source": [
    "# Xavier Initialization:\n",
    "# change 'tahn' function into 'relu' function(They are both non-linear function).\n",
    "# The result shown in the figure is not good.\n",
    "# We can use 'He Initialization' to solve this problem.\n",
    "import tensorflow as tf\n",
    "import numpy as np\n",
    "import matplotlib.pyplot as plt\n",
    "\n",
    "graph = tf.Graph()\n",
    "with graph.as_default():\n",
    "    data = tf.constant(np.random.randn(2000, 800).astype('float32'))\n",
    "    layer_sizes = [800 - 50 * i for i in range(0,10)]\n",
    "    num_layers = len(layer_sizes)\n",
    "    \n",
    "    fcs = [] # store the output of each layer\n",
    "    for i in range(0, num_layers - 1):\n",
    "        X = data if i == 0 else fcs[i - 1]\n",
    "        node_input = layer_sizes[i]\n",
    "        node_output = layer_sizes[i + 1]\n",
    "        W = (tf.Variable(np.random.randn(node_input, node_output).astype('float32')) \n",
    "             / np.sqrt(node_input)) # Xavier Initalization\n",
    "        fc = tf.matmul(X, W)\n",
    "        fc = tf.nn.relu(fc)\n",
    "        fcs.append(fc)\n",
    "        \n",
    "with tf.Session(graph=graph) as sess:\n",
    "    sess.run(tf.global_variables_initializer())\n",
    "    print('input mean {0:.5f} and std {1:.5f}'.format(np.mean(data.eval()),\n",
    "                                                      np.std(data.eval())))\n",
    "    \n",
    "    for idx, fc in enumerate(fcs):\n",
    "        print('layer {0}: mean {1:.5f} and std {2:.5f}'.format(idx+1, np.mean(fc.eval()),\n",
    "                                                              np.std(fc.eval())))\n",
    "        \n",
    "    plt.figure()\n",
    "    for idx, fc in enumerate(fcs):\n",
    "        plt.subplot(1, len(fcs), idx+1)\n",
    "        plt.hist(fc.eval().flatten(), 30, range=[-1,1])\n",
    "        plt.xlabel('layer ' + str(idx + 1))\n",
    "        plt.yticks([])\n",
    "        \n",
    "    plt.show()"
   ]
  },
  {
   "cell_type": "code",
   "execution_count": 30,
   "metadata": {},
   "outputs": [
    {
     "name": "stdout",
     "output_type": "stream",
     "text": [
      "input mean 0.00072 and std 0.99997\n",
      "layer 1: mean 0.56402 and std 0.82664\n",
      "layer 2: mean 0.57753 and std 0.84292\n",
      "layer 3: mean 0.57037 and std 0.83684\n",
      "layer 4: mean 0.52870 and std 0.80534\n",
      "layer 5: mean 0.53431 and std 0.79726\n",
      "layer 6: mean 0.49011 and std 0.75222\n",
      "layer 7: mean 0.51924 and std 0.76296\n",
      "layer 8: mean 0.48861 and std 0.78873\n",
      "layer 9: mean 0.51722 and std 0.73781\n"
     ]
    },
    {
     "data": {
      "image/png": "[encoded data removed]",
      "text/plain": [
       "<matplotlib.figure.Figure at 0x181f96ebe0>"
      ]
     },
     "metadata": {},
     "output_type": "display_data"
    }
   ],
   "source": [
    "# He Initialization:\n",
    "# The main idea is half of neurals are activated, the other half are 0.\n",
    "# The result is nice.\n",
    "import tensorflow as tf\n",
    "import numpy as np\n",
    "import matplotlib.pyplot as plt\n",
    "\n",
    "graph = tf.Graph()\n",
    "with graph.as_default():\n",
    "    data = tf.constant(np.random.randn(2000, 800).astype('float32'))\n",
    "    layer_sizes = [800 - 50 * i for i in range(0,10)]\n",
    "    num_layers = len(layer_sizes)\n",
    "    \n",
    "    fcs = [] # store the output of each layer\n",
    "    for i in range(0, num_layers - 1):\n",
    "        X = data if i == 0 else fcs[i - 1]\n",
    "        node_input = layer_sizes[i]\n",
    "        node_output = layer_sizes[i + 1]\n",
    "        W = (tf.Variable(np.random.randn(node_input, node_output).astype('float32')) \n",
    "             / np.sqrt(node_input/2)) # Xavier Initalization\n",
    "        fc = tf.matmul(X, W)\n",
    "        fc = tf.nn.relu(fc)\n",
    "        fcs.append(fc)\n",
    "        \n",
    "with tf.Session(graph=graph) as sess:\n",
    "    sess.run(tf.global_variables_initializer())\n",
    "    print('input mean {0:.5f} and std {1:.5f}'.format(np.mean(data.eval()),\n",
    "                                                      np.std(data.eval())))\n",
    "    \n",
    "    for idx, fc in enumerate(fcs):\n",
    "        print('layer {0}: mean {1:.5f} and std {2:.5f}'.format(idx+1, np.mean(fc.eval()),\n",
    "                                                              np.std(fc.eval())))\n",
    "        \n",
    "    plt.figure()\n",
    "    for idx, fc in enumerate(fcs):\n",
    "        plt.subplot(1, len(fcs), idx+1)\n",
    "        plt.hist(fc.eval().flatten(), 30, range=[-1,1])\n",
    "        plt.xlabel('layer ' + str(idx + 1))\n",
    "        plt.yticks([])\n",
    "        \n",
    "    plt.show()"
   ]
  },
  {
   "cell_type": "code",
   "execution_count": 44,
   "metadata": {},
   "outputs": [
    {
     "name": "stderr",
     "output_type": "stream",
     "text": [
      "ERROR:root:Internal Python error in the inspect module.\n",
      "Below is the traceback from this internal error.\n",
      "\n"
     ]
    },
    {
     "name": "stdout",
     "output_type": "stream",
     "text": [
      "Traceback (most recent call last):\n",
      "  File \"/anaconda3/lib/python3.6/site-packages/IPython/core/interactiveshell.py\", line 2910, in run_code\n",
      "    exec(code_obj, self.user_global_ns, self.user_ns)\n",
      "  File \"<ipython-input-44-f35438fc0532>\", line 26, in <module>\n",
      "    fc = tf.contrib.layers.batch_norm(fc, center=True, scale=True)\n",
      "  File \"/anaconda3/lib/python3.6/site-packages/tensorflow/python/util/lazy_loader.py\", line 53, in __getattr__\n",
      "    module = self._load()\n",
      "  File \"/anaconda3/lib/python3.6/site-packages/tensorflow/python/util/lazy_loader.py\", line 42, in _load\n",
      "    module = importlib.import_module(self.__name__)\n",
      "  File \"/anaconda3/lib/python3.6/importlib/__init__.py\", line 126, in import_module\n",
      "    return _bootstrap._gcd_import(name[level:], package, level)\n",
      "  File \"<frozen importlib._bootstrap>\", line 994, in _gcd_import\n",
      "  File \"<frozen importlib._bootstrap>\", line 971, in _find_and_load\n",
      "  File \"<frozen importlib._bootstrap>\", line 955, in _find_and_load_unlocked\n",
      "  File \"<frozen importlib._bootstrap>\", line 665, in _load_unlocked\n",
      "  File \"<frozen importlib._bootstrap_external>\", line 678, in exec_module\n",
      "  File \"<frozen importlib._bootstrap>\", line 219, in _call_with_frames_removed\n",
      "  File \"/anaconda3/lib/python3.6/site-packages/tensorflow/contrib/__init__.py\", line 36, in <module>\n",
      "    from tensorflow.contrib import distribute\n",
      "  File \"/anaconda3/lib/python3.6/site-packages/tensorflow/contrib/distribute/__init__.py\", line 22, in <module>\n",
      "    from tensorflow.contrib.distribute.python.cross_tower_ops import *\n",
      "  File \"/anaconda3/lib/python3.6/site-packages/tensorflow/contrib/distribute/python/cross_tower_ops.py\", line 24, in <module>\n",
      "    from tensorflow.contrib.distribute.python import values as value_lib\n",
      "  File \"/anaconda3/lib/python3.6/site-packages/tensorflow/contrib/distribute/python/values.py\", line 30, in <module>\n",
      "    from tensorflow.contrib.distribute.python import prefetching_ops_v2\n",
      "  File \"/anaconda3/lib/python3.6/site-packages/tensorflow/contrib/distribute/python/prefetching_ops_v2.py\", line 24, in <module>\n",
      "    from tensorflow.contrib.data.python.ops import prefetching_ops\n",
      "  File \"/anaconda3/lib/python3.6/site-packages/tensorflow/contrib/data/python/ops/prefetching_ops.py\", line 175, in <module>\n",
      "    class _PrefetchToDeviceEagerIterator(iterator_ops.EagerIterator):\n",
      "AttributeError: module 'tensorflow.python.data.ops.iterator_ops' has no attribute 'EagerIterator'\n",
      "\n",
      "During handling of the above exception, another exception occurred:\n",
      "\n",
      "Traceback (most recent call last):\n",
      "  File \"/anaconda3/lib/python3.6/site-packages/IPython/core/interactiveshell.py\", line 1828, in showtraceback\n",
      "    stb = value._render_traceback_()\n",
      "AttributeError: 'AttributeError' object has no attribute '_render_traceback_'\n",
      "\n",
      "During handling of the above exception, another exception occurred:\n",
      "\n",
      "Traceback (most recent call last):\n",
      "  File \"/anaconda3/lib/python3.6/site-packages/IPython/core/ultratb.py\", line 1090, in get_records\n",
      "    return _fixed_getinnerframes(etb, number_of_lines_of_context, tb_offset)\n",
      "  File \"/anaconda3/lib/python3.6/site-packages/IPython/core/ultratb.py\", line 311, in wrapped\n",
      "    return f(*args, **kwargs)\n",
      "  File \"/anaconda3/lib/python3.6/site-packages/IPython/core/ultratb.py\", line 345, in _fixed_getinnerframes\n",
      "    records = fix_frame_records_filenames(inspect.getinnerframes(etb, context))\n",
      "  File \"/anaconda3/lib/python3.6/inspect.py\", line 1483, in getinnerframes\n",
      "    frameinfo = (tb.tb_frame,) + getframeinfo(tb, context)\n",
      "  File \"/anaconda3/lib/python3.6/inspect.py\", line 1441, in getframeinfo\n",
      "    filename = getsourcefile(frame) or getfile(frame)\n",
      "  File \"/anaconda3/lib/python3.6/inspect.py\", line 696, in getsourcefile\n",
      "    if getattr(getmodule(object, filename), '__loader__', None) is not None:\n",
      "  File \"/anaconda3/lib/python3.6/inspect.py\", line 725, in getmodule\n",
      "    file = getabsfile(object, _filename)\n",
      "  File \"/anaconda3/lib/python3.6/inspect.py\", line 709, in getabsfile\n",
      "    return os.path.normcase(os.path.abspath(_filename))\n",
      "  File \"/anaconda3/lib/python3.6/posixpath.py\", line 374, in abspath\n",
      "    cwd = os.getcwd()\n",
      "FileNotFoundError: [Errno 2] No such file or directory\n"
     ]
    },
    {
     "ename": "AttributeError",
     "evalue": "module 'tensorflow.python.data.ops.iterator_ops' has no attribute 'EagerIterator'",
     "output_type": "error",
     "traceback": [
      "\u001b[0;31m---------------------------------------------------------------------------\u001b[0m"
     ]
    }
   ],
   "source": [
    "# Batch Normalization Layer:\n",
    "# The basic idea: If you want it, just make it!\n",
    "# We want better distribution(e.g.Gaussian Distribution) before non-linear activation \n",
    "# in order to be easier to compute gradient and update weights.\n",
    "# Batch Normalization is used to force outputs to do Gaussian Normalization and Linear Transform.\n",
    "# The result is very nice! Recommand to use Batch Normalization.\n",
    "import tensorflow as tf\n",
    "import numpy as np\n",
    "import matplotlib.pyplot as plt\n",
    "\n",
    "graph = tf.Graph()\n",
    "with graph.as_default():\n",
    "    data = tf.constant(np.random.randn(2000, 800).astype('float32'))\n",
    "    layer_sizes = [800 - 50 * i for i in range(0,10)]\n",
    "    num_layers = len(layer_sizes)\n",
    "    \n",
    "    fcs = [] # store the output of each layer\n",
    "    for i in range(0, num_layers - 1):\n",
    "        X = data if i == 0 else fcs[i - 1]\n",
    "        node_input = layer_sizes[i]\n",
    "        node_output = layer_sizes[i + 1]\n",
    "        W = tf.Variable(np.random.randn(node_input, node_output).astype\n",
    "                ('float32')) * 0.01 # Random Gaussian/Normal Distribution Initialization for weights\n",
    "        fc = tf.matmul(X, W)\n",
    "        #%% The following code can't work in jupyter, but can work on my own mac.\n",
    "        fc = tf.contrib.layers.batch_norm(fc, center=True, scale=True)\n",
    "        fc = tf.nn.relu(fc)\n",
    "        fcs.append(fc)\n",
    "        \n",
    "with tf.Session(graph=graph) as sess:\n",
    "    sess.run(tf.global_variables_initializer())\n",
    "    print('input mean {0:.5f} and std {1:.5f}'.format(np.mean(data.eval()),\n",
    "                                                      np.std(data.eval())))\n",
    "    \n",
    "    for idx, fc in enumerate(fcs):\n",
    "        print('layer {0}: mean {1:.5f} and std {2:.5f}'.format(idx+1, np.mean(fc.eval()),\n",
    "                                                              np.std(fc.eval())))\n",
    "        \n",
    "    plt.figure()\n",
    "    for idx, fc in enumerate(fcs):\n",
    "        plt.subplot(1, len(fcs), idx+1)\n",
    "        plt.hist(fc.eval().flatten(), 30, range=[-1,1])\n",
    "        plt.xlabel('layer ' + str(idx + 1))\n",
    "        plt.yticks([])\n",
    "        \n",
    "    plt.show()"
   ]
  },
  {
   "cell_type": "code",
   "execution_count": null,
   "metadata": {},
   "outputs": [],
   "source": [
    "'''\n",
    "   Reference and Notes:\n",
    "   \n",
    "   glorot_normal: Glorot正态分布初始化方法，也称作Xavier正态分布初始化。\n",
    "   glorot_uniform: Glorot均匀分布初始化方法，又成Xavier均匀初始化。\n",
    "   \n",
    "   Xavier initialization是由Xavier Glorot et al.在2010年提出，\n",
    "   He initialization是由Kaiming He et al.在2015年提出，\n",
    "   Batch Normalization是由Sergey Ioffe et al.在2015年提出。\n",
    "   \n",
    "   1. https://keras-cn.readthedocs.io/en/latest/other/initializations/\n",
    "   2. https://zhuanlan.zhihu.com/p/25110150\n",
    "   3. Xavier Glorot et al., Understanding the Difficult of Training Deep Feedforward Neural Networks\n",
    "   4. Kaiming He et al., Delving Deep into Rectifiers: Surpassing Human-Level Performance on ImageNet Classfication\n",
    "   5. Sergey Ioffe et al., Batch Normalization: Accelerating Deep Network Training by Reducing Internal Covariate Shift\n",
    "   6. Standord CS231n\n",
    "'''\n"
   ]
  }
 ],
 "metadata": {
  "kernelspec": {
   "display_name": "Python 3",
   "language": "python",
   "name": "python3"
  },
  "language_info": {
   "codemirror_mode": {
    "name": "ipython",
    "version": 3
   },
   "file_extension": ".py",
   "mimetype": "text/x-python",
   "name": "python",
   "nbconvert_exporter": "python",
   "pygments_lexer": "ipython3",
   "version": "3.6.4"
  }
 },
 "nbformat": 4,
 "nbformat_minor": 2
}
