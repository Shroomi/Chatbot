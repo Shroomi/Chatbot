{
 "cells": [
  {
   "cell_type": "code",
   "execution_count": null,
   "metadata": {},
   "outputs": [],
   "source": [
    "'''\n",
    "    This file is used to discuss the importance of\n",
    "    weight initialization.\n",
    "    \n",
    "    There are several ways of weight initialization.\n",
    "    \n",
    "    1. Pre-training\n",
    "    2. Random Initialization\n",
    "    3. Xavier Initialization\n",
    "    4. He Initialization\n",
    "    5. Batch Normalization Layer\n",
    "'''\n",
    "\n",
    "# Pre-training: Use the model which has been trained on task A\n",
    "#               for task B with fine-tuning."
   ]
  },
  {
   "cell_type": "code",
   "execution_count": 18,
   "metadata": {},
   "outputs": [
    {
     "name": "stdout",
     "output_type": "stream",
     "text": [
      "input mean 0.00092 and std 1.00075\n",
      "layer 1: mean -0.00029 and std 0.26390\n",
      "layer 2: mean -0.00007 and std 0.07204\n",
      "layer 3: mean -0.00000 and std 0.01906\n",
      "layer 4: mean 0.00001 and std 0.00485\n",
      "layer 5: mean -0.00000 and std 0.00119\n",
      "layer 6: mean 0.00000 and std 0.00028\n",
      "layer 7: mean -0.00000 and std 0.00006\n",
      "layer 8: mean -0.00000 and std 0.00001\n",
      "layer 9: mean 0.00000 and std 0.00000\n"
     ]
    },
    {
     "data": {
      "image/png": "[encoded data removed]",
      "text/plain": [
       "<matplotlib.figure.Figure at 0x1820538d30>"
      ]
     },
     "metadata": {},
     "output_type": "display_data"
    }
   ],
   "source": [
    "# Random Initialization\n",
    "import tensorflow as tf\n",
    "import numpy as np\n",
    "import matplotlib.pyplot as plt\n",
    "\n",
    "graph = tf.Graph()\n",
    "with graph.as_default():\n",
    "    data = tf.constant(np.random.randn(2000, 800).astype('float32'))\n",
    "    layer_sizes = [800 - 50 * i for i in range(0,10)]\n",
    "    num_layers = len(layer_sizes)\n",
    "    \n",
    "    fcs = [] # store the output of each layer\n",
    "    for i in range(0, num_layers - 1):\n",
    "        X = data if i == 0 else fcs[i - 1]\n",
    "        node_input = layer_sizes[i]\n",
    "        node_output = layer_sizes[i + 1]\n",
    "        W = tf.Variable(np.random.randn(node_input, node_output).astype\n",
    "                ('float32')) * 0.01 # Random Gaussian/Normal Distribution Initialization for weights\n",
    "        fc = tf.matmul(X, W)\n",
    "        fc = tf.nn.tanh(fc)\n",
    "        fcs.append(fc)\n",
    "        \n",
    "with tf.Session(graph=graph) as sess:\n",
    "    sess.run(tf.global_variables_initializer())\n",
    "    print('input mean {0:.5f} and std {1:.5f}'.format(np.mean(data.eval()),\n",
    "                                                      np.std(data.eval())))\n",
    "    \n",
    "    for idx, fc in enumerate(fcs):\n",
    "        print('layer {0}: mean {1:.5f} and std {2:.5f}'.format(idx+1, np.mean(fc.eval()),\n",
    "                                                              np.std(fc.eval())))\n",
    "        \n",
    "    plt.figure()\n",
    "    for idx, fc in enumerate(fcs):\n",
    "        plt.subplot(1, len(fcs), idx+1)\n",
    "        plt.hist(fc.eval().flatten(), 30, range=[-1,1])\n",
    "        plt.xlabel('layer ' + str(idx + 1))\n",
    "        plt.yticks([])\n",
    "        \n",
    "    plt.show()"
   ]
  },
  {
   "cell_type": "code",
   "execution_count": null,
   "metadata": {},
   "outputs": [],
   "source": []
  }
 ],
 "metadata": {
  "kernelspec": {
   "display_name": "Python 3",
   "language": "python",
   "name": "python3"
  },
  "language_info": {
   "codemirror_mode": {
    "name": "ipython",
    "version": 3
   },
   "file_extension": ".py",
   "mimetype": "text/x-python",
   "name": "python",
   "nbconvert_exporter": "python",
   "pygments_lexer": "ipython3",
   "version": "3.6.4"
  }
 },
 "nbformat": 4,
 "nbformat_minor": 2
}
